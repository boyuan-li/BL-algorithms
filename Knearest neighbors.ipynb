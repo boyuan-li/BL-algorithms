{
 "cells": [
  {
   "cell_type": "markdown",
   "metadata": {},
   "source": [
    "# Set-up"
   ]
  },
  {
   "cell_type": "code",
   "execution_count": 1,
   "metadata": {},
   "outputs": [],
   "source": [
    "from typing import List, NamedTuple, Dict, TypeVar, Tuple\n",
    "from collections import Counter, defaultdict\n",
    "import math\n",
    "import requests\n",
    "import csv\n",
    "import matplotlib.pyplot as plt \n",
    "import random\n",
    "from tqdm.notebook import trange\n",
    "import tqdm"
   ]
  },
  {
   "cell_type": "markdown",
   "metadata": {},
   "source": [
    "# From scratch"
   ]
  },
  {
   "cell_type": "markdown",
   "metadata": {},
   "source": [
    "## Vote mechanism"
   ]
  },
  {
   "cell_type": "code",
   "execution_count": 2,
   "metadata": {},
   "outputs": [
    {
     "data": {
      "text/plain": [
       "'b'"
      ]
     },
     "execution_count": 2,
     "metadata": {},
     "output_type": "execute_result"
    }
   ],
   "source": [
    "def raw_majority_vote(labels: List[str]) -> str:\n",
    "    votes = Counter(labels)\n",
    "    winner, _ = votes.most_common(1)[0]\n",
    "    return winner\n",
    "\n",
    "raw_majority_vote(['a','b','c','b'])"
   ]
  },
  {
   "cell_type": "code",
   "execution_count": 3,
   "metadata": {},
   "outputs": [
    {
     "data": {
      "text/plain": [
       "'b'"
      ]
     },
     "execution_count": 3,
     "metadata": {},
     "output_type": "execute_result"
    }
   ],
   "source": [
    "def majority_vote(labels: List[str]) -> str:\n",
    "    '''Assumes that labels are ordered from nearest to farthest'''\n",
    "    vote_counts = Counter(labels)\n",
    "    winner, winner_count = vote_counts.most_common(1)[0]\n",
    "    num_winners = len([count\n",
    "                       for count in vote_counts.values()\n",
    "                       if count == winner_count])\n",
    "    if num_winners == 1:\n",
    "        return winner\n",
    "    else:\n",
    "        return majority_vote(labels[:-1])\n",
    "\n",
    "majority_vote(['a','b','c','b','a'])"
   ]
  },
  {
   "cell_type": "markdown",
   "metadata": {},
   "source": [
    "## Classifier"
   ]
  },
  {
   "cell_type": "code",
   "execution_count": 4,
   "metadata": {},
   "outputs": [],
   "source": [
    "Vector = List[float]\n",
    "\n",
    "def subtract(v: Vector, w: Vector) -> Vector:\n",
    "    \"\"\"Subtracts corresponding elements\"\"\"\n",
    "    assert len(v) == len(w), \"vectors must be the same length\"\n",
    "\n",
    "    return [v_i - w_i for v_i, w_i in zip(v, w)]\n",
    "def dot(v: Vector, w: Vector) -> float:\n",
    "    \"\"\"Computes v_1 * w_1 + ... + v_n * w_n\"\"\"\n",
    "    assert len(v) == len(w), \"vectors must be same length\"\n",
    "    return sum(v_i * w_i for v_i, w_i in zip(v, w))\n",
    "\n",
    "def sum_of_squares(v: Vector) -> float:\n",
    "    \"\"\"Returns v_1 * v_1 + ... + v_n * v_n\"\"\"\n",
    "    return dot(v, v)\n",
    "\n",
    "def squared_distance(v: Vector, w: Vector) -> float:\n",
    "    \"\"\"Computes (v_1 - w_1) ** 2 + ... + (v_n - w_n) ** 2\"\"\"\n",
    "    return sum_of_squares(subtract(v, w))\n",
    "\n",
    "def distance(v: Vector, w: Vector) -> float:\n",
    "    \"\"\"Computes the distance between v and w\"\"\"\n",
    "    return math.sqrt(squared_distance(v, w))"
   ]
  },
  {
   "cell_type": "code",
   "execution_count": 5,
   "metadata": {},
   "outputs": [],
   "source": [
    "class LabeledPoint(NamedTuple):\n",
    "    point: Vector\n",
    "    label: str\n",
    "    \n",
    "def knn_classify(k: int, \n",
    "                 labeled_points: List[LabeledPoint],\n",
    "                 new_point: Vector) -> str:\n",
    "    # Order the labeled points from nearest to farthese\n",
    "    by_distance = sorted(labeled_points,\n",
    "                         key = lambda lp: distance(lp.point, new_point))\n",
    "    # Find the labels for the k closest\n",
    "    k_nearest_labels = [lp.label for lp in by_distance[:k]]\n",
    "    # Vote\n",
    "    return majority_vote(k_nearest_labels)"
   ]
  },
  {
   "cell_type": "markdown",
   "metadata": {},
   "source": [
    "## Iris example"
   ]
  },
  {
   "cell_type": "code",
   "execution_count": 6,
   "metadata": {},
   "outputs": [],
   "source": [
    "data = requests.get(\"https://archive.ics.uci.edu/ml/machine-learning-databases/iris/iris.data\")\n",
    "\n",
    "with open('iris.data', 'w') as f:\n",
    "    f.write(data.text)"
   ]
  },
  {
   "cell_type": "code",
   "execution_count": 7,
   "metadata": {},
   "outputs": [],
   "source": [
    "def parse_iris_row(row: List[str]) -> LabeledPoint:\n",
    "    '''sepal_length, sepal_width, petal_length, petal_width, class'''\n",
    "    measurements = [float(value) for value in row[:-1]]\n",
    "    \n",
    "    # class is e.g. Iris-virginica, we just want virginica\n",
    "    label = row[-1].split(\"-\")[1]\n",
    "    \n",
    "    return LabeledPoint(measurements, label)\n",
    "\n",
    "with open(\"iris.data\") as f:\n",
    "    reader = csv.reader(f, delimiter = ',')\n",
    "    iris_data = [parse_iris_row(row) for row in reader if len(row) >= 1]\n",
    "    \n",
    "points_by_species: Dict[str, List[Vector]] = defaultdict(list)\n",
    "\n",
    "# group the points by species/label \n",
    "for iris in iris_data:\n",
    "    points_by_species[iris.label].append(iris.point)"
   ]
  },
  {
   "cell_type": "code",
   "execution_count": 8,
   "metadata": {},
   "outputs": [
    {
     "data": {
      "image/png": "[encoded data removed]",
      "text/plain": [
       "<Figure size 432x288 with 6 Axes>"
      ]
     },
     "metadata": {},
     "output_type": "display_data"
    }
   ],
   "source": [
    "metrics = ['sepal length', 'sepal width', 'petal length', 'petal width']\n",
    "pairs = [(i, j) for i in range(4) for j in range(4) if i < j]\n",
    "marks = ['+', '.', 'x']\n",
    "\n",
    "fig, ax = plt.subplots(2, 3)\n",
    "\n",
    "for row in range(2):\n",
    "    for col in range(3):\n",
    "        i, j = pairs[3 * row + col]\n",
    "        ax[row][col].set_title(f\"{metrics[i]} vs {metrics[j]}\", fontsize = 8)\n",
    "        ax[row][col].set_xticks([])\n",
    "        ax[row][col].set_yticks([])\n",
    "        for mark, (species, points) in zip(marks, points_by_species.items()):\n",
    "            xs = [point[i] for point in points]\n",
    "            ys = [point[j] for point in points]\n",
    "            ax[row][col].scatter(xs, ys, marker = mark, label = species)\n",
    "ax[-1][-1].legend(loc = 'lower right', prop = {'size': 6})\n",
    "plt.show()"
   ]
  },
  {
   "cell_type": "code",
   "execution_count": 9,
   "metadata": {},
   "outputs": [],
   "source": [
    "X = TypeVar('X')\n",
    "\n",
    "def split_data(data: List[X], prob: float) -> Tuple[List[X], List[X]]:\n",
    "    \"\"\"Split data into fractions [prob, 1 - prob]\"\"\"\n",
    "    data = data[:]                    \n",
    "    random.shuffle(data)              \n",
    "    cut = int(len(data) * prob)      \n",
    "    return data[:cut], data[cut:]     \n",
    "\n",
    "random.seed(12)\n",
    "iris_train, iris_test = split_data(iris_data, 0.7)"
   ]
  },
  {
   "cell_type": "code",
   "execution_count": 10,
   "metadata": {},
   "outputs": [
    {
     "name": "stdout",
     "output_type": "stream",
     "text": [
      "0.9777777777777777 defaultdict(<class 'int'>, {('setosa', 'setosa'): 13, ('versicolor', 'versicolor'): 15, ('virginica', 'virginica'): 16, ('virginica', 'versicolor'): 1})\n"
     ]
    }
   ],
   "source": [
    "confusion_matrix: Dict[Tuple[str, str], int] = defaultdict(int)\n",
    "num_correct = 0\n",
    "\n",
    "for iris in iris_test:\n",
    "    predicted = knn_classify(5, iris_train, iris.point)\n",
    "    actual = iris.label\n",
    "    \n",
    "    if predicted == actual:\n",
    "        num_correct += 1\n",
    "        \n",
    "    confusion_matrix[(predicted, actual)] += 1\n",
    "\n",
    "pct_correct = num_correct / len(iris_test)\n",
    "print(pct_correct, confusion_matrix)"
   ]
  },
  {
   "cell_type": "markdown",
   "metadata": {},
   "source": [
    "## Curse of dimensionality"
   ]
  },
  {
   "cell_type": "code",
   "execution_count": 11,
   "metadata": {},
   "outputs": [
    {
     "name": "stderr",
     "output_type": "stream",
     "text": [
      "Curse of Dimensionality: 100%|██████████| 100/100 [00:14<00:00,  6.82it/s]\n"
     ]
    }
   ],
   "source": [
    "def random_point(dim: int) -> Vector:\n",
    "    return [random.random() for _ in range(dim)]\n",
    "\n",
    "def random_distance(dim: int, num_pairs: int) -> List[float]:\n",
    "    return [distance(random_point(dim), random_point(dim))\n",
    "            for _ in range(num_pairs)]\n",
    "\n",
    "dimensions = range(1, 101)\n",
    "\n",
    "avg_distances = []\n",
    "min_distances = []\n",
    "\n",
    "random.seed(0)\n",
    "\n",
    "for dim in tqdm.tqdm(dimensions, desc = 'Curse of Dimensionality'):\n",
    "    distances = random_distance(dim, 10000)\n",
    "    \n",
    "    avg_distances.append(sum(distances) / 10000)\n",
    "    min_distances.append(min(distances))\n",
    "\n",
    "min_avg_ratio = [min_dist / avg_dist for min_dist, avg_dist in zip(min_distances, avg_distances)]"
   ]
  },
  {
   "cell_type": "code",
   "execution_count": 12,
   "metadata": {},
   "outputs": [
    {
     "data": {
      "text/plain": [
       "[<matplotlib.lines.Line2D at 0x7fd969c05e20>]"
      ]
     },
     "execution_count": 12,
     "metadata": {},
     "output_type": "execute_result"
    },
    {
     "data": {
      "image/png": "[encoded data removed]",
      "text/plain": [
       "<Figure size 432x288 with 1 Axes>"
      ]
     },
     "metadata": {
      "needs_background": "light"
     },
     "output_type": "display_data"
    }
   ],
   "source": [
    "plt.plot([x for x in range(dim)], avg_distances,'-')\n",
    "plt.plot([x for x in range(dim)], min_distances,'--')\n",
    "plt.plot(min_avg_ratio,'+')"
   ]
  },
  {
   "cell_type": "markdown",
   "metadata": {},
   "source": [
    "# Sklearn"
   ]
  },
  {
   "cell_type": "code",
   "execution_count": 13,
   "metadata": {},
   "outputs": [],
   "source": [
    "from sklearn.neighbors import KNeighborsClassifier"
   ]
  },
  {
   "cell_type": "code",
   "execution_count": null,
   "metadata": {},
   "outputs": [],
   "source": []
  }
 ],
 "metadata": {
  "kernelspec": {
   "display_name": "Python 3",
   "language": "python",
   "name": "python3"
  },
  "language_info": {
   "codemirror_mode": {
    "name": "ipython",
    "version": 3
   },
   "file_extension": ".py",
   "mimetype": "text/x-python",
   "name": "python",
   "nbconvert_exporter": "python",
   "pygments_lexer": "ipython3",
   "version": "3.8.5"
  }
 },
 "nbformat": 4,
 "nbformat_minor": 4
}
