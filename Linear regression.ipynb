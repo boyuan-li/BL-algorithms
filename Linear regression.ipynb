{
 "cells": [
  {
   "cell_type": "markdown",
   "metadata": {},
   "source": [
    "# Set-up"
   ]
  },
  {
   "cell_type": "code",
   "execution_count": 68,
   "metadata": {},
   "outputs": [],
   "source": [
    "import statsmodels.api as sm\n",
    "import statsmodels.stats.api as sms\n",
    "import statsmodels.formula.api as smf\n",
    "import numpy as np\n",
    "import pandas as pd\n",
    "import scipy.stats as sp\n",
    "from sklearn.linear_model import LinearRegression"
   ]
  },
  {
   "cell_type": "markdown",
   "metadata": {},
   "source": [
    "# 1. Simple linear regression"
   ]
  },
  {
   "cell_type": "markdown",
   "metadata": {},
   "source": [
    "## Omitted variable bias"
   ]
  },
  {
   "cell_type": "markdown",
   "metadata": {},
   "source": [
    "OVB = Effect of treatment in short - effect of treatment in long = beta short - beta long = relationship between omitted and treatment x effect of omitted in long"
   ]
  },
  {
   "cell_type": "code",
   "execution_count": 69,
   "metadata": {},
   "outputs": [
    {
     "data": {
      "text/html": [
       "<div>\n",
       "<style scoped>\n",
       "    .dataframe tbody tr th:only-of-type {\n",
       "        vertical-align: middle;\n",
       "    }\n",
       "\n",
       "    .dataframe tbody tr th {\n",
       "        vertical-align: top;\n",
       "    }\n",
       "\n",
       "    .dataframe thead th {\n",
       "        text-align: right;\n",
       "    }\n",
       "</style>\n",
       "<table border=\"1\" class=\"dataframe\">\n",
       "  <thead>\n",
       "    <tr style=\"text-align: right;\">\n",
       "      <th></th>\n",
       "      <th>mdvis</th>\n",
       "      <th>lncoins</th>\n",
       "      <th>idp</th>\n",
       "      <th>lpi</th>\n",
       "      <th>fmde</th>\n",
       "      <th>physlm</th>\n",
       "      <th>disea</th>\n",
       "      <th>hlthg</th>\n",
       "      <th>hlthf</th>\n",
       "      <th>hlthp</th>\n",
       "    </tr>\n",
       "  </thead>\n",
       "  <tbody>\n",
       "    <tr>\n",
       "      <th>0</th>\n",
       "      <td>0</td>\n",
       "      <td>4.615120</td>\n",
       "      <td>1</td>\n",
       "      <td>6.907755</td>\n",
       "      <td>0.000000</td>\n",
       "      <td>0.000000</td>\n",
       "      <td>13.73189</td>\n",
       "      <td>1</td>\n",
       "      <td>0</td>\n",
       "      <td>0</td>\n",
       "    </tr>\n",
       "    <tr>\n",
       "      <th>1</th>\n",
       "      <td>2</td>\n",
       "      <td>4.615120</td>\n",
       "      <td>1</td>\n",
       "      <td>6.907755</td>\n",
       "      <td>0.000000</td>\n",
       "      <td>0.000000</td>\n",
       "      <td>13.73189</td>\n",
       "      <td>1</td>\n",
       "      <td>0</td>\n",
       "      <td>0</td>\n",
       "    </tr>\n",
       "    <tr>\n",
       "      <th>2</th>\n",
       "      <td>0</td>\n",
       "      <td>4.615120</td>\n",
       "      <td>1</td>\n",
       "      <td>6.907755</td>\n",
       "      <td>0.000000</td>\n",
       "      <td>0.000000</td>\n",
       "      <td>13.73189</td>\n",
       "      <td>1</td>\n",
       "      <td>0</td>\n",
       "      <td>0</td>\n",
       "    </tr>\n",
       "    <tr>\n",
       "      <th>3</th>\n",
       "      <td>0</td>\n",
       "      <td>4.615120</td>\n",
       "      <td>1</td>\n",
       "      <td>6.907755</td>\n",
       "      <td>0.000000</td>\n",
       "      <td>0.000000</td>\n",
       "      <td>13.73189</td>\n",
       "      <td>1</td>\n",
       "      <td>0</td>\n",
       "      <td>0</td>\n",
       "    </tr>\n",
       "    <tr>\n",
       "      <th>4</th>\n",
       "      <td>0</td>\n",
       "      <td>4.615120</td>\n",
       "      <td>1</td>\n",
       "      <td>6.907755</td>\n",
       "      <td>0.000000</td>\n",
       "      <td>0.000000</td>\n",
       "      <td>13.73189</td>\n",
       "      <td>1</td>\n",
       "      <td>0</td>\n",
       "      <td>0</td>\n",
       "    </tr>\n",
       "    <tr>\n",
       "      <th>...</th>\n",
       "      <td>...</td>\n",
       "      <td>...</td>\n",
       "      <td>...</td>\n",
       "      <td>...</td>\n",
       "      <td>...</td>\n",
       "      <td>...</td>\n",
       "      <td>...</td>\n",
       "      <td>...</td>\n",
       "      <td>...</td>\n",
       "      <td>...</td>\n",
       "    </tr>\n",
       "    <tr>\n",
       "      <th>20185</th>\n",
       "      <td>2</td>\n",
       "      <td>0.000000</td>\n",
       "      <td>0</td>\n",
       "      <td>5.377498</td>\n",
       "      <td>0.000000</td>\n",
       "      <td>0.144292</td>\n",
       "      <td>10.57626</td>\n",
       "      <td>0</td>\n",
       "      <td>0</td>\n",
       "      <td>0</td>\n",
       "    </tr>\n",
       "    <tr>\n",
       "      <th>20186</th>\n",
       "      <td>0</td>\n",
       "      <td>0.000000</td>\n",
       "      <td>0</td>\n",
       "      <td>5.377498</td>\n",
       "      <td>0.000000</td>\n",
       "      <td>0.144292</td>\n",
       "      <td>10.57626</td>\n",
       "      <td>0</td>\n",
       "      <td>0</td>\n",
       "      <td>0</td>\n",
       "    </tr>\n",
       "    <tr>\n",
       "      <th>20187</th>\n",
       "      <td>8</td>\n",
       "      <td>3.258096</td>\n",
       "      <td>0</td>\n",
       "      <td>6.874819</td>\n",
       "      <td>8.006368</td>\n",
       "      <td>0.144292</td>\n",
       "      <td>10.57626</td>\n",
       "      <td>0</td>\n",
       "      <td>0</td>\n",
       "      <td>0</td>\n",
       "    </tr>\n",
       "    <tr>\n",
       "      <th>20188</th>\n",
       "      <td>8</td>\n",
       "      <td>3.258096</td>\n",
       "      <td>0</td>\n",
       "      <td>5.156178</td>\n",
       "      <td>6.542472</td>\n",
       "      <td>0.144292</td>\n",
       "      <td>10.57626</td>\n",
       "      <td>0</td>\n",
       "      <td>0</td>\n",
       "      <td>0</td>\n",
       "    </tr>\n",
       "    <tr>\n",
       "      <th>20189</th>\n",
       "      <td>6</td>\n",
       "      <td>3.258096</td>\n",
       "      <td>0</td>\n",
       "      <td>6.620073</td>\n",
       "      <td>8.006368</td>\n",
       "      <td>0.144292</td>\n",
       "      <td>10.57626</td>\n",
       "      <td>0</td>\n",
       "      <td>0</td>\n",
       "      <td>0</td>\n",
       "    </tr>\n",
       "  </tbody>\n",
       "</table>\n",
       "<p>20190 rows × 10 columns</p>\n",
       "</div>"
      ],
      "text/plain": [
       "       mdvis   lncoins  idp       lpi      fmde    physlm     disea  hlthg  \\\n",
       "0          0  4.615120    1  6.907755  0.000000  0.000000  13.73189      1   \n",
       "1          2  4.615120    1  6.907755  0.000000  0.000000  13.73189      1   \n",
       "2          0  4.615120    1  6.907755  0.000000  0.000000  13.73189      1   \n",
       "3          0  4.615120    1  6.907755  0.000000  0.000000  13.73189      1   \n",
       "4          0  4.615120    1  6.907755  0.000000  0.000000  13.73189      1   \n",
       "...      ...       ...  ...       ...       ...       ...       ...    ...   \n",
       "20185      2  0.000000    0  5.377498  0.000000  0.144292  10.57626      0   \n",
       "20186      0  0.000000    0  5.377498  0.000000  0.144292  10.57626      0   \n",
       "20187      8  3.258096    0  6.874819  8.006368  0.144292  10.57626      0   \n",
       "20188      8  3.258096    0  5.156178  6.542472  0.144292  10.57626      0   \n",
       "20189      6  3.258096    0  6.620073  8.006368  0.144292  10.57626      0   \n",
       "\n",
       "       hlthf  hlthp  \n",
       "0          0      0  \n",
       "1          0      0  \n",
       "2          0      0  \n",
       "3          0      0  \n",
       "4          0      0  \n",
       "...      ...    ...  \n",
       "20185      0      0  \n",
       "20186      0      0  \n",
       "20187      0      0  \n",
       "20188      0      0  \n",
       "20189      0      0  \n",
       "\n",
       "[20190 rows x 10 columns]"
      ]
     },
     "execution_count": 69,
     "metadata": {},
     "output_type": "execute_result"
    }
   ],
   "source": [
    "df = sm.datasets.randhie.load_pandas().data\n",
    "df"
   ]
  },
  {
   "cell_type": "code",
   "execution_count": 70,
   "metadata": {},
   "outputs": [
    {
     "name": "stdout",
     "output_type": "stream",
     "text": [
      "::\n",
      "\n",
      "    Number of observations - 20,190\n",
      "    Number of variables - 10\n",
      "    Variable name definitions::\n",
      "\n",
      "        mdvis   - Number of outpatient visits to an MD\n",
      "        lncoins - ln(coinsurance + 1), 0 <= coninsurance <= 100\n",
      "        idp     - 1 if individual deductible plan, 0 otherwise\n",
      "        lpi     - ln(max(1, annual participation incentive payment))\n",
      "        fmde    - 0 if idp = 1; ln(max(1, MDE/(0.01 coinsurance))) otherwise\n",
      "        physlm  - 1 if the person has a physical limitation\n",
      "        disea   - number of chronic diseases\n",
      "        hlthg   - 1 if self-rated health is good\n",
      "        hlthf   - 1 if self-rated health is fair\n",
      "        hlthp   - 1 if self-rated health is poor\n",
      "        (Omitted category is excellent self-rated health)\n",
      "\n"
     ]
    }
   ],
   "source": [
    "print(sm.datasets.randhie.NOTE)"
   ]
  },
  {
   "cell_type": "code",
   "execution_count": 85,
   "metadata": {},
   "outputs": [],
   "source": [
    "long_lm = smf.ols(formula = 'mdvis ~ lncoins + idp', data = df).fit()\n",
    "short_lm = smf.ols(formula = 'mdvis ~ lncoins', data = df).fit()\n",
    "omi_lm = smf.ols(formula = 'idp ~ lncoins', data = df).fit()"
   ]
  },
  {
   "cell_type": "code",
   "execution_count": 86,
   "metadata": {},
   "outputs": [
    {
     "data": {
      "text/plain": [
       "0.04094676829074495"
      ]
     },
     "execution_count": 86,
     "metadata": {},
     "output_type": "execute_result"
    }
   ],
   "source": [
    "short_lm.params['lncoins'] - long_lm.params['lncoins']"
   ]
  },
  {
   "cell_type": "code",
   "execution_count": 87,
   "metadata": {},
   "outputs": [
    {
     "data": {
      "text/plain": [
       "0.04094676829074513"
      ]
     },
     "execution_count": 87,
     "metadata": {},
     "output_type": "execute_result"
    }
   ],
   "source": [
    "omi_lm.params['lncoins'] * long_lm.params['idp']"
   ]
  },
  {
   "cell_type": "code",
   "execution_count": 88,
   "metadata": {},
   "outputs": [],
   "source": [
    "long_lm = smf.ols(formula = 'mdvis ~ lncoins + idp + lpi + fmde', data = df).fit()\n",
    "short_lm = smf.ols(formula = 'mdvis ~ lncoins + lpi + fmde', data = df).fit()\n",
    "omi_lm = smf.ols(formula = 'idp ~ lncoins + lpi + fmde', data = df).fit()"
   ]
  },
  {
   "cell_type": "code",
   "execution_count": 89,
   "metadata": {},
   "outputs": [
    {
     "data": {
      "text/plain": [
       "0.06802680182337317"
      ]
     },
     "execution_count": 89,
     "metadata": {},
     "output_type": "execute_result"
    }
   ],
   "source": [
    "short_lm.params['lncoins'] - long_lm.params['lncoins']"
   ]
  },
  {
   "cell_type": "code",
   "execution_count": 90,
   "metadata": {},
   "outputs": [
    {
     "data": {
      "text/plain": [
       "0.06802680182337166"
      ]
     },
     "execution_count": 90,
     "metadata": {},
     "output_type": "execute_result"
    }
   ],
   "source": [
    "omi_lm.params['lncoins'] * long_lm.params['idp']"
   ]
  },
  {
   "cell_type": "code",
   "execution_count": null,
   "metadata": {},
   "outputs": [],
   "source": []
  }
 ],
 "metadata": {
  "kernelspec": {
   "display_name": "Python 3",
   "language": "python",
   "name": "python3"
  },
  "language_info": {
   "codemirror_mode": {
    "name": "ipython",
    "version": 3
   },
   "file_extension": ".py",
   "mimetype": "text/x-python",
   "name": "python",
   "nbconvert_exporter": "python",
   "pygments_lexer": "ipython3",
   "version": "3.8.5"
  }
 },
 "nbformat": 4,
 "nbformat_minor": 4
}
