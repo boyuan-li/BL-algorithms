{
 "cells": [
  {
   "cell_type": "markdown",
   "metadata": {},
   "source": [
    "# Set-up"
   ]
  },
  {
   "cell_type": "code",
   "execution_count": 13,
   "metadata": {},
   "outputs": [],
   "source": [
    "from typing import List\n",
    "import math\n",
    "import tqdm"
   ]
  },
  {
   "cell_type": "markdown",
   "metadata": {},
   "source": [
    "# PCA - principal component analysis"
   ]
  },
  {
   "cell_type": "markdown",
   "metadata": {},
   "source": [
    "## From scratch"
   ]
  },
  {
   "cell_type": "code",
   "execution_count": 12,
   "metadata": {},
   "outputs": [],
   "source": [
    "Vector = List[float]\n",
    "\n",
    "def subtract(v: Vector, w: Vector) -> Vector:\n",
    "    \"\"\"Subtracts corresponding elements\"\"\"\n",
    "    assert len(v) == len(w), \"vectors must be the same length\"\n",
    "    return [v_i - w_i for v_i, w_i in zip(v, w)]\n",
    "\n",
    "assert subtract([5, 7, 9], [4, 5, 6]) == [1, 2, 3]\n",
    "\n",
    "def vector_sum(vectors: List[Vector]) -> Vector:\n",
    "    \"\"\"Sums all corresponding elements\"\"\"\n",
    "    # Check that vectors is not empty\n",
    "    assert vectors, \"no vectors provided!\"\n",
    "\n",
    "    # Check the vectors are all the same size\n",
    "    num_elements = len(vectors[0])\n",
    "    assert all(len(v) == num_elements for v in vectors), \"different sizes!\"\n",
    "\n",
    "    # the i-th element of the result is the sum of every vector[i]\n",
    "    return [sum(vector[i] for vector in vectors)\n",
    "            for i in range(num_elements)]\n",
    "\n",
    "assert vector_sum([[1, 2], [3, 4], [5, 6], [7, 8]]) == [16, 20]\n",
    "\n",
    "def scalar_multiply(c: float, v: Vector) -> Vector:\n",
    "    \"\"\"Multiplies every element by c\"\"\"\n",
    "    return [c * v_i for v_i in v]\n",
    "\n",
    "assert scalar_multiply(2, [1, 2, 3]) == [2, 4, 6]\n",
    "\n",
    "def vector_mean(vectors: List[Vector]) -> Vector:\n",
    "    \"\"\"Computes the element-wise average\"\"\"\n",
    "    n = len(vectors)\n",
    "    return scalar_multiply(1/n, vector_sum(vectors))\n",
    "\n",
    "def dot(v: Vector, w: Vector) -> float:\n",
    "    \"\"\"Computes v_1 * w_1 + ... + v_n * w_n\"\"\"\n",
    "    assert len(v) == len(w), \"vectors must be same length\"\n",
    "\n",
    "    return sum(v_i * w_i for v_i, w_i in zip(v, w))\n",
    "\n",
    "assert dot([1, 2, 3], [4, 5, 6]) == 32  # 1 * 4 + 2 * 5 + 3 * 6\n",
    "\n",
    "def sum_of_squares(v: Vector) -> float:\n",
    "    \"\"\"Returns v_1 * v_1 + ... + v_n * v_n\"\"\"\n",
    "    return dot(v, v)\n",
    "\n",
    "assert sum_of_squares([1, 2, 3]) == 14  # 1 * 1 + 2 * 2 + 3 * 3\n",
    "\n",
    "def magnitude(v: Vector) -> float:\n",
    "    \"\"\"Returns the magnitude (or length) of v\"\"\"\n",
    "    return math.sqrt(sum_of_squares(v))   # math.sqrt is square root function\n",
    "\n",
    "def gradient_step(v: Vector, gradient: Vector, step_size: float) -> Vector:\n",
    "    \"\"\"Moves `step_size` in the `gradient` direction from `v`\"\"\"\n",
    "    assert len(v) == len(gradient)\n",
    "    step = scalar_multiply(step_size, gradient)\n",
    "    return add(v, step)"
   ]
  },
  {
   "cell_type": "code",
   "execution_count": 6,
   "metadata": {},
   "outputs": [],
   "source": [
    "def de_mean(data: List[List[float]]) -> List[List[float]]:\n",
    "    '''Recenters the data to have mean 0 in every dimension'''\n",
    "    mean = vector_mean(data)\n",
    "    return [subtract(vector, mean) for vector in data]"
   ]
  },
  {
   "cell_type": "code",
   "execution_count": 7,
   "metadata": {},
   "outputs": [],
   "source": [
    "def direction(w: Vector) -> Vector:\n",
    "    mag = manitude(w)\n",
    "    return [w_i / mag for w_i in w]"
   ]
  },
  {
   "cell_type": "code",
   "execution_count": 8,
   "metadata": {},
   "outputs": [],
   "source": [
    "def directional_variance(data: List[Vector], w: Vector) -> float:\n",
    "    '''Returns the variance of x in the direction of w'''\n",
    "    w_dir = direction(w)\n",
    "    return sum(dot(v, w_dir) ** 2 for v in data)"
   ]
  },
  {
   "cell_type": "code",
   "execution_count": 9,
   "metadata": {},
   "outputs": [],
   "source": [
    "def directional_variance_gradient(data: List[Vector], w: Vector) -> Vector:\n",
    "    '''The gradient of directional variance with respect to w'''\n",
    "    w_dir = direction(w)\n",
    "    return [sum(2 * dot(v, w_dir) * v[i] for v in data)\n",
    "            for i in range(len(w))]"
   ]
  },
  {
   "cell_type": "code",
   "execution_count": 15,
   "metadata": {},
   "outputs": [],
   "source": [
    "def first_principal_component(data: List[Vector],\n",
    "                              n: int = 100,\n",
    "                              step_size: float = 0.1) -> Vector:\n",
    "    guess = [1.0 for _ in data[0]]\n",
    "    \n",
    "    with tqdm.trange(n) as t:\n",
    "        for _ in t:\n",
    "            dv = directional_variance(data, guess)\n",
    "            gradient = directional_variance_gradient(data, guess)\n",
    "            guess = gradient_step(guess, gradient, step_size)\n",
    "            t.set_description(f'dv:{dv:.3f}')\n",
    "            \n",
    "    return direction(guess)"
   ]
  },
  {
   "cell_type": "code",
   "execution_count": 16,
   "metadata": {},
   "outputs": [],
   "source": [
    "def project(v: Vector, w: Vector) -> Vector:\n",
    "    '''Returns the projection of v onto the direction w'''\n",
    "    projection_length = dot(v, w)\n",
    "    return scalar_multiply(projection_length, w)"
   ]
  },
  {
   "cell_type": "code",
   "execution_count": 18,
   "metadata": {},
   "outputs": [],
   "source": [
    "def remove_projection_from_vector(v: Vector, w: Vector) -> Vector:\n",
    "    '''Projects v onto w and subtracts the result from v'''\n",
    "    return subtract(v, project(v, w))\n",
    "\n",
    "def remove_projection(data: List[Vector], w: Vector) -> List[Vector]:\n",
    "    return [remove_projection_from_vector(v, w) for v in data]"
   ]
  },
  {
   "cell_type": "code",
   "execution_count": 19,
   "metadata": {},
   "outputs": [],
   "source": [
    "def pca(data: List[Vector], num_components: int) -> List[Vector]: \n",
    "    components: List[Vector] = []\n",
    "    for _ in range(num_components):\n",
    "        components = first_principal_component(data)\n",
    "        components.append(component)\n",
    "        data = remove_projection(data, component)\n",
    "    return components"
   ]
  },
  {
   "cell_type": "code",
   "execution_count": 20,
   "metadata": {},
   "outputs": [],
   "source": [
    "def transform_vector(v: Vector, components: List[Vector]) -> Vector:\n",
    "    return [dot(v, w) for w in components]\n",
    "\n",
    "def transform(data: List[Vector], components: List[Vector]) -> List[Vector]:\n",
    "    return [transform_vector(v, components) for v in data]"
   ]
  },
  {
   "cell_type": "code",
   "execution_count": null,
   "metadata": {},
   "outputs": [],
   "source": []
  }
 ],
 "metadata": {
  "kernelspec": {
   "display_name": "Python 3",
   "language": "python",
   "name": "python3"
  },
  "language_info": {
   "codemirror_mode": {
    "name": "ipython",
    "version": 3
   },
   "file_extension": ".py",
   "mimetype": "text/x-python",
   "name": "python",
   "nbconvert_exporter": "python",
   "pygments_lexer": "ipython3",
   "version": "3.8.5"
  }
 },
 "nbformat": 4,
 "nbformat_minor": 4
}
